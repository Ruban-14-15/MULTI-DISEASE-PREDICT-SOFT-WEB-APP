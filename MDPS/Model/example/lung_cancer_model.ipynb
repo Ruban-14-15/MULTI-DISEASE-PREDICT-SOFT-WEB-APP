{
 "cells": [
  {
   "cell_type": "code",
   "execution_count": 1,
   "id": "91a4fd6c",
   "metadata": {
    "_cell_guid": "b1076dfc-b9ad-4769-8c92-a6c4dae69d19",
    "_uuid": "8f2839f25d086af736a60e9eeb907d3b93b6e0e5",
    "execution": {
     "iopub.execute_input": "2022-07-28T10:34:30.774734Z",
     "iopub.status.busy": "2022-07-28T10:34:30.774082Z",
     "iopub.status.idle": "2022-07-28T10:34:30.798163Z",
     "shell.execute_reply": "2022-07-28T10:34:30.797315Z"
    },
    "papermill": {
     "duration": 0.046136,
     "end_time": "2022-07-28T10:34:30.800883",
     "exception": false,
     "start_time": "2022-07-28T10:34:30.754747",
     "status": "completed"
    },
    "tags": []
   },
   "outputs": [
    {
     "name": "stdout",
     "output_type": "stream",
     "text": [
      "/kaggle/input/lung-cancer-detection/survey lung cancer.csv\n"
     ]
    }
   ],
   "source": [
    "# This Python 3 environment comes with many helpful analytics libraries installed\n",
    "# It is defined by the kaggle/python Docker image: https://github.com/kaggle/docker-python\n",
    "# For example, here's several helpful packages to load\n",
    "\n",
    "import numpy as np # linear algebra\n",
    "import pandas as pd # data processing, CSV file I/O (e.g. pd.read_csv)\n",
    "\n",
    "# Input data files are available in the read-only \"../input/\" directory\n",
    "# For example, running this (by clicking run or pressing Shift+Enter) will list all files under the input directory\n",
    "\n",
    "import os\n",
    "for dirname, _, filenames in os.walk('/kaggle/input'):\n",
    "    for filename in filenames:\n",
    "        print(os.path.join(dirname, filename))\n",
    "\n",
    "# You can write up to 20GB to the current directory (/kaggle/working/) that gets preserved as output when you create a version using \"Save & Run All\" \n",
    "# You can also write temporary files to /kaggle/temp/, but they won't be saved outside of the current session"
   ]
  },
  {
   "cell_type": "code",
   "execution_count": 2,
   "id": "66966d65",
   "metadata": {
    "execution": {
     "iopub.execute_input": "2022-07-28T10:34:30.834604Z",
     "iopub.status.busy": "2022-07-28T10:34:30.834163Z",
     "iopub.status.idle": "2022-07-28T10:34:31.927897Z",
     "shell.execute_reply": "2022-07-28T10:34:31.926642Z"
    },
    "papermill": {
     "duration": 1.11352,
     "end_time": "2022-07-28T10:34:31.930809",
     "exception": false,
     "start_time": "2022-07-28T10:34:30.817289",
     "status": "completed"
    },
    "tags": []
   },
   "outputs": [],
   "source": [
    "import pandas as pd\n",
    "import numpy as np\n",
    "import matplotlib.pyplot as plt\n",
    "import seaborn as sns"
   ]
  },
  {
   "cell_type": "code",
   "execution_count": 3,
   "id": "642c48ef",
   "metadata": {
    "execution": {
     "iopub.execute_input": "2022-07-28T10:34:31.964929Z",
     "iopub.status.busy": "2022-07-28T10:34:31.964470Z",
     "iopub.status.idle": "2022-07-28T10:34:32.001334Z",
     "shell.execute_reply": "2022-07-28T10:34:31.999380Z"
    },
    "papermill": {
     "duration": 0.057914,
     "end_time": "2022-07-28T10:34:32.004180",
     "exception": false,
     "start_time": "2022-07-28T10:34:31.946266",
     "status": "completed"
    },
    "tags": []
   },
   "outputs": [
    {
     "data": {
      "text/html": [
       "<div>\n",
       "<style scoped>\n",
       "    .dataframe tbody tr th:only-of-type {\n",
       "        vertical-align: middle;\n",
       "    }\n",
       "\n",
       "    .dataframe tbody tr th {\n",
       "        vertical-align: top;\n",
       "    }\n",
       "\n",
       "    .dataframe thead th {\n",
       "        text-align: right;\n",
       "    }\n",
       "</style>\n",
       "<table border=\"1\" class=\"dataframe\">\n",
       "  <thead>\n",
       "    <tr style=\"text-align: right;\">\n",
       "      <th></th>\n",
       "      <th>GENDER</th>\n",
       "      <th>AGE</th>\n",
       "      <th>SMOKING</th>\n",
       "      <th>YELLOW_FINGERS</th>\n",
       "      <th>ANXIETY</th>\n",
       "      <th>PEER_PRESSURE</th>\n",
       "      <th>CHRONIC DISEASE</th>\n",
       "      <th>FATIGUE</th>\n",
       "      <th>ALLERGY</th>\n",
       "      <th>WHEEZING</th>\n",
       "      <th>ALCOHOL CONSUMING</th>\n",
       "      <th>COUGHING</th>\n",
       "      <th>SHORTNESS OF BREATH</th>\n",
       "      <th>SWALLOWING DIFFICULTY</th>\n",
       "      <th>CHEST PAIN</th>\n",
       "      <th>LUNG_CANCER</th>\n",
       "    </tr>\n",
       "  </thead>\n",
       "  <tbody>\n",
       "    <tr>\n",
       "      <th>0</th>\n",
       "      <td>M</td>\n",
       "      <td>69</td>\n",
       "      <td>1</td>\n",
       "      <td>2</td>\n",
       "      <td>2</td>\n",
       "      <td>1</td>\n",
       "      <td>1</td>\n",
       "      <td>2</td>\n",
       "      <td>1</td>\n",
       "      <td>2</td>\n",
       "      <td>2</td>\n",
       "      <td>2</td>\n",
       "      <td>2</td>\n",
       "      <td>2</td>\n",
       "      <td>2</td>\n",
       "      <td>YES</td>\n",
       "    </tr>\n",
       "    <tr>\n",
       "      <th>1</th>\n",
       "      <td>M</td>\n",
       "      <td>74</td>\n",
       "      <td>2</td>\n",
       "      <td>1</td>\n",
       "      <td>1</td>\n",
       "      <td>1</td>\n",
       "      <td>2</td>\n",
       "      <td>2</td>\n",
       "      <td>2</td>\n",
       "      <td>1</td>\n",
       "      <td>1</td>\n",
       "      <td>1</td>\n",
       "      <td>2</td>\n",
       "      <td>2</td>\n",
       "      <td>2</td>\n",
       "      <td>YES</td>\n",
       "    </tr>\n",
       "    <tr>\n",
       "      <th>2</th>\n",
       "      <td>F</td>\n",
       "      <td>59</td>\n",
       "      <td>1</td>\n",
       "      <td>1</td>\n",
       "      <td>1</td>\n",
       "      <td>2</td>\n",
       "      <td>1</td>\n",
       "      <td>2</td>\n",
       "      <td>1</td>\n",
       "      <td>2</td>\n",
       "      <td>1</td>\n",
       "      <td>2</td>\n",
       "      <td>2</td>\n",
       "      <td>1</td>\n",
       "      <td>2</td>\n",
       "      <td>NO</td>\n",
       "    </tr>\n",
       "    <tr>\n",
       "      <th>3</th>\n",
       "      <td>M</td>\n",
       "      <td>63</td>\n",
       "      <td>2</td>\n",
       "      <td>2</td>\n",
       "      <td>2</td>\n",
       "      <td>1</td>\n",
       "      <td>1</td>\n",
       "      <td>1</td>\n",
       "      <td>1</td>\n",
       "      <td>1</td>\n",
       "      <td>2</td>\n",
       "      <td>1</td>\n",
       "      <td>1</td>\n",
       "      <td>2</td>\n",
       "      <td>2</td>\n",
       "      <td>NO</td>\n",
       "    </tr>\n",
       "    <tr>\n",
       "      <th>4</th>\n",
       "      <td>F</td>\n",
       "      <td>63</td>\n",
       "      <td>1</td>\n",
       "      <td>2</td>\n",
       "      <td>1</td>\n",
       "      <td>1</td>\n",
       "      <td>1</td>\n",
       "      <td>1</td>\n",
       "      <td>1</td>\n",
       "      <td>2</td>\n",
       "      <td>1</td>\n",
       "      <td>2</td>\n",
       "      <td>2</td>\n",
       "      <td>1</td>\n",
       "      <td>1</td>\n",
       "      <td>NO</td>\n",
       "    </tr>\n",
       "  </tbody>\n",
       "</table>\n",
       "</div>"
      ],
      "text/plain": [
       "  GENDER  AGE  SMOKING  YELLOW_FINGERS  ANXIETY  PEER_PRESSURE  \\\n",
       "0      M   69        1               2        2              1   \n",
       "1      M   74        2               1        1              1   \n",
       "2      F   59        1               1        1              2   \n",
       "3      M   63        2               2        2              1   \n",
       "4      F   63        1               2        1              1   \n",
       "\n",
       "   CHRONIC DISEASE  FATIGUE   ALLERGY   WHEEZING  ALCOHOL CONSUMING  COUGHING  \\\n",
       "0                1         2         1         2                  2         2   \n",
       "1                2         2         2         1                  1         1   \n",
       "2                1         2         1         2                  1         2   \n",
       "3                1         1         1         1                  2         1   \n",
       "4                1         1         1         2                  1         2   \n",
       "\n",
       "   SHORTNESS OF BREATH  SWALLOWING DIFFICULTY  CHEST PAIN LUNG_CANCER  \n",
       "0                    2                      2           2         YES  \n",
       "1                    2                      2           2         YES  \n",
       "2                    2                      1           2          NO  \n",
       "3                    1                      2           2          NO  \n",
       "4                    2                      1           1          NO  "
      ]
     },
     "execution_count": 3,
     "metadata": {},
     "output_type": "execute_result"
    }
   ],
   "source": [
    "data=pd.read_csv('/kaggle/input/lung-cancer-detection/survey lung cancer.csv')\n",
    "data.head()"
   ]
  },
  {
   "cell_type": "code",
   "execution_count": 4,
   "id": "5721843f",
   "metadata": {
    "execution": {
     "iopub.execute_input": "2022-07-28T10:34:32.038785Z",
     "iopub.status.busy": "2022-07-28T10:34:32.038152Z",
     "iopub.status.idle": "2022-07-28T10:34:32.063486Z",
     "shell.execute_reply": "2022-07-28T10:34:32.062556Z"
    },
    "papermill": {
     "duration": 0.046488,
     "end_time": "2022-07-28T10:34:32.066640",
     "exception": false,
     "start_time": "2022-07-28T10:34:32.020152",
     "status": "completed"
    },
    "tags": []
   },
   "outputs": [
    {
     "name": "stdout",
     "output_type": "stream",
     "text": [
      "<class 'pandas.core.frame.DataFrame'>\n",
      "RangeIndex: 309 entries, 0 to 308\n",
      "Data columns (total 16 columns):\n",
      " #   Column                 Non-Null Count  Dtype \n",
      "---  ------                 --------------  ----- \n",
      " 0   GENDER                 309 non-null    object\n",
      " 1   AGE                    309 non-null    int64 \n",
      " 2   SMOKING                309 non-null    int64 \n",
      " 3   YELLOW_FINGERS         309 non-null    int64 \n",
      " 4   ANXIETY                309 non-null    int64 \n",
      " 5   PEER_PRESSURE          309 non-null    int64 \n",
      " 6   CHRONIC DISEASE        309 non-null    int64 \n",
      " 7   FATIGUE                309 non-null    int64 \n",
      " 8   ALLERGY                309 non-null    int64 \n",
      " 9   WHEEZING               309 non-null    int64 \n",
      " 10  ALCOHOL CONSUMING      309 non-null    int64 \n",
      " 11  COUGHING               309 non-null    int64 \n",
      " 12  SHORTNESS OF BREATH    309 non-null    int64 \n",
      " 13  SWALLOWING DIFFICULTY  309 non-null    int64 \n",
      " 14  CHEST PAIN             309 non-null    int64 \n",
      " 15  LUNG_CANCER            309 non-null    object\n",
      "dtypes: int64(14), object(2)\n",
      "memory usage: 38.8+ KB\n"
     ]
    }
   ],
   "source": [
    "data.info()"
   ]
  },
  {
   "cell_type": "code",
   "execution_count": 5,
   "id": "78893f52",
   "metadata": {
    "execution": {
     "iopub.execute_input": "2022-07-28T10:34:32.101092Z",
     "iopub.status.busy": "2022-07-28T10:34:32.100472Z",
     "iopub.status.idle": "2022-07-28T10:34:32.107362Z",
     "shell.execute_reply": "2022-07-28T10:34:32.106261Z"
    },
    "papermill": {
     "duration": 0.026641,
     "end_time": "2022-07-28T10:34:32.109845",
     "exception": false,
     "start_time": "2022-07-28T10:34:32.083204",
     "status": "completed"
    },
    "tags": []
   },
   "outputs": [
    {
     "data": {
      "text/plain": [
       "Index(['GENDER', 'AGE', 'SMOKING', 'YELLOW_FINGERS', 'ANXIETY',\n",
       "       'PEER_PRESSURE', 'CHRONIC DISEASE', 'FATIGUE ', 'ALLERGY ', 'WHEEZING',\n",
       "       'ALCOHOL CONSUMING', 'COUGHING', 'SHORTNESS OF BREATH',\n",
       "       'SWALLOWING DIFFICULTY', 'CHEST PAIN', 'LUNG_CANCER'],\n",
       "      dtype='object')"
      ]
     },
     "execution_count": 5,
     "metadata": {},
     "output_type": "execute_result"
    }
   ],
   "source": [
    "data.columns"
   ]
  },
  {
   "cell_type": "code",
   "execution_count": 6,
   "id": "4cb05261",
   "metadata": {
    "execution": {
     "iopub.execute_input": "2022-07-28T10:34:32.144904Z",
     "iopub.status.busy": "2022-07-28T10:34:32.144176Z",
     "iopub.status.idle": "2022-07-28T10:34:32.201694Z",
     "shell.execute_reply": "2022-07-28T10:34:32.200673Z"
    },
    "papermill": {
     "duration": 0.077054,
     "end_time": "2022-07-28T10:34:32.203847",
     "exception": false,
     "start_time": "2022-07-28T10:34:32.126793",
     "status": "completed"
    },
    "tags": []
   },
   "outputs": [
    {
     "data": {
      "text/html": [
       "<div>\n",
       "<style scoped>\n",
       "    .dataframe tbody tr th:only-of-type {\n",
       "        vertical-align: middle;\n",
       "    }\n",
       "\n",
       "    .dataframe tbody tr th {\n",
       "        vertical-align: top;\n",
       "    }\n",
       "\n",
       "    .dataframe thead th {\n",
       "        text-align: right;\n",
       "    }\n",
       "</style>\n",
       "<table border=\"1\" class=\"dataframe\">\n",
       "  <thead>\n",
       "    <tr style=\"text-align: right;\">\n",
       "      <th></th>\n",
       "      <th>AGE</th>\n",
       "      <th>SMOKING</th>\n",
       "      <th>YELLOW_FINGERS</th>\n",
       "      <th>ANXIETY</th>\n",
       "      <th>PEER_PRESSURE</th>\n",
       "      <th>CHRONIC DISEASE</th>\n",
       "      <th>FATIGUE</th>\n",
       "      <th>ALLERGY</th>\n",
       "      <th>WHEEZING</th>\n",
       "      <th>ALCOHOL CONSUMING</th>\n",
       "      <th>COUGHING</th>\n",
       "      <th>SHORTNESS OF BREATH</th>\n",
       "      <th>SWALLOWING DIFFICULTY</th>\n",
       "      <th>CHEST PAIN</th>\n",
       "    </tr>\n",
       "  </thead>\n",
       "  <tbody>\n",
       "    <tr>\n",
       "      <th>count</th>\n",
       "      <td>309.000000</td>\n",
       "      <td>309.000000</td>\n",
       "      <td>309.000000</td>\n",
       "      <td>309.000000</td>\n",
       "      <td>309.000000</td>\n",
       "      <td>309.000000</td>\n",
       "      <td>309.000000</td>\n",
       "      <td>309.000000</td>\n",
       "      <td>309.000000</td>\n",
       "      <td>309.000000</td>\n",
       "      <td>309.000000</td>\n",
       "      <td>309.000000</td>\n",
       "      <td>309.000000</td>\n",
       "      <td>309.000000</td>\n",
       "    </tr>\n",
       "    <tr>\n",
       "      <th>mean</th>\n",
       "      <td>62.673139</td>\n",
       "      <td>1.563107</td>\n",
       "      <td>1.569579</td>\n",
       "      <td>1.498382</td>\n",
       "      <td>1.501618</td>\n",
       "      <td>1.504854</td>\n",
       "      <td>1.673139</td>\n",
       "      <td>1.556634</td>\n",
       "      <td>1.556634</td>\n",
       "      <td>1.556634</td>\n",
       "      <td>1.579288</td>\n",
       "      <td>1.640777</td>\n",
       "      <td>1.469256</td>\n",
       "      <td>1.556634</td>\n",
       "    </tr>\n",
       "    <tr>\n",
       "      <th>std</th>\n",
       "      <td>8.210301</td>\n",
       "      <td>0.496806</td>\n",
       "      <td>0.495938</td>\n",
       "      <td>0.500808</td>\n",
       "      <td>0.500808</td>\n",
       "      <td>0.500787</td>\n",
       "      <td>0.469827</td>\n",
       "      <td>0.497588</td>\n",
       "      <td>0.497588</td>\n",
       "      <td>0.497588</td>\n",
       "      <td>0.494474</td>\n",
       "      <td>0.480551</td>\n",
       "      <td>0.499863</td>\n",
       "      <td>0.497588</td>\n",
       "    </tr>\n",
       "    <tr>\n",
       "      <th>min</th>\n",
       "      <td>21.000000</td>\n",
       "      <td>1.000000</td>\n",
       "      <td>1.000000</td>\n",
       "      <td>1.000000</td>\n",
       "      <td>1.000000</td>\n",
       "      <td>1.000000</td>\n",
       "      <td>1.000000</td>\n",
       "      <td>1.000000</td>\n",
       "      <td>1.000000</td>\n",
       "      <td>1.000000</td>\n",
       "      <td>1.000000</td>\n",
       "      <td>1.000000</td>\n",
       "      <td>1.000000</td>\n",
       "      <td>1.000000</td>\n",
       "    </tr>\n",
       "    <tr>\n",
       "      <th>25%</th>\n",
       "      <td>57.000000</td>\n",
       "      <td>1.000000</td>\n",
       "      <td>1.000000</td>\n",
       "      <td>1.000000</td>\n",
       "      <td>1.000000</td>\n",
       "      <td>1.000000</td>\n",
       "      <td>1.000000</td>\n",
       "      <td>1.000000</td>\n",
       "      <td>1.000000</td>\n",
       "      <td>1.000000</td>\n",
       "      <td>1.000000</td>\n",
       "      <td>1.000000</td>\n",
       "      <td>1.000000</td>\n",
       "      <td>1.000000</td>\n",
       "    </tr>\n",
       "    <tr>\n",
       "      <th>50%</th>\n",
       "      <td>62.000000</td>\n",
       "      <td>2.000000</td>\n",
       "      <td>2.000000</td>\n",
       "      <td>1.000000</td>\n",
       "      <td>2.000000</td>\n",
       "      <td>2.000000</td>\n",
       "      <td>2.000000</td>\n",
       "      <td>2.000000</td>\n",
       "      <td>2.000000</td>\n",
       "      <td>2.000000</td>\n",
       "      <td>2.000000</td>\n",
       "      <td>2.000000</td>\n",
       "      <td>1.000000</td>\n",
       "      <td>2.000000</td>\n",
       "    </tr>\n",
       "    <tr>\n",
       "      <th>75%</th>\n",
       "      <td>69.000000</td>\n",
       "      <td>2.000000</td>\n",
       "      <td>2.000000</td>\n",
       "      <td>2.000000</td>\n",
       "      <td>2.000000</td>\n",
       "      <td>2.000000</td>\n",
       "      <td>2.000000</td>\n",
       "      <td>2.000000</td>\n",
       "      <td>2.000000</td>\n",
       "      <td>2.000000</td>\n",
       "      <td>2.000000</td>\n",
       "      <td>2.000000</td>\n",
       "      <td>2.000000</td>\n",
       "      <td>2.000000</td>\n",
       "    </tr>\n",
       "    <tr>\n",
       "      <th>max</th>\n",
       "      <td>87.000000</td>\n",
       "      <td>2.000000</td>\n",
       "      <td>2.000000</td>\n",
       "      <td>2.000000</td>\n",
       "      <td>2.000000</td>\n",
       "      <td>2.000000</td>\n",
       "      <td>2.000000</td>\n",
       "      <td>2.000000</td>\n",
       "      <td>2.000000</td>\n",
       "      <td>2.000000</td>\n",
       "      <td>2.000000</td>\n",
       "      <td>2.000000</td>\n",
       "      <td>2.000000</td>\n",
       "      <td>2.000000</td>\n",
       "    </tr>\n",
       "  </tbody>\n",
       "</table>\n",
       "</div>"
      ],
      "text/plain": [
       "              AGE     SMOKING  YELLOW_FINGERS     ANXIETY  PEER_PRESSURE  \\\n",
       "count  309.000000  309.000000      309.000000  309.000000     309.000000   \n",
       "mean    62.673139    1.563107        1.569579    1.498382       1.501618   \n",
       "std      8.210301    0.496806        0.495938    0.500808       0.500808   \n",
       "min     21.000000    1.000000        1.000000    1.000000       1.000000   \n",
       "25%     57.000000    1.000000        1.000000    1.000000       1.000000   \n",
       "50%     62.000000    2.000000        2.000000    1.000000       2.000000   \n",
       "75%     69.000000    2.000000        2.000000    2.000000       2.000000   \n",
       "max     87.000000    2.000000        2.000000    2.000000       2.000000   \n",
       "\n",
       "       CHRONIC DISEASE    FATIGUE     ALLERGY     WHEEZING  ALCOHOL CONSUMING  \\\n",
       "count       309.000000  309.000000  309.000000  309.000000         309.000000   \n",
       "mean          1.504854    1.673139    1.556634    1.556634           1.556634   \n",
       "std           0.500787    0.469827    0.497588    0.497588           0.497588   \n",
       "min           1.000000    1.000000    1.000000    1.000000           1.000000   \n",
       "25%           1.000000    1.000000    1.000000    1.000000           1.000000   \n",
       "50%           2.000000    2.000000    2.000000    2.000000           2.000000   \n",
       "75%           2.000000    2.000000    2.000000    2.000000           2.000000   \n",
       "max           2.000000    2.000000    2.000000    2.000000           2.000000   \n",
       "\n",
       "         COUGHING  SHORTNESS OF BREATH  SWALLOWING DIFFICULTY  CHEST PAIN  \n",
       "count  309.000000           309.000000             309.000000  309.000000  \n",
       "mean     1.579288             1.640777               1.469256    1.556634  \n",
       "std      0.494474             0.480551               0.499863    0.497588  \n",
       "min      1.000000             1.000000               1.000000    1.000000  \n",
       "25%      1.000000             1.000000               1.000000    1.000000  \n",
       "50%      2.000000             2.000000               1.000000    2.000000  \n",
       "75%      2.000000             2.000000               2.000000    2.000000  \n",
       "max      2.000000             2.000000               2.000000    2.000000  "
      ]
     },
     "execution_count": 6,
     "metadata": {},
     "output_type": "execute_result"
    }
   ],
   "source": [
    "data.describe()"
   ]
  },
  {
   "cell_type": "code",
   "execution_count": 7,
   "id": "91ed92aa",
   "metadata": {
    "execution": {
     "iopub.execute_input": "2022-07-28T10:34:32.250376Z",
     "iopub.status.busy": "2022-07-28T10:34:32.249544Z",
     "iopub.status.idle": "2022-07-28T10:34:32.260271Z",
     "shell.execute_reply": "2022-07-28T10:34:32.258818Z"
    },
    "papermill": {
     "duration": 0.039853,
     "end_time": "2022-07-28T10:34:32.262982",
     "exception": false,
     "start_time": "2022-07-28T10:34:32.223129",
     "status": "completed"
    },
    "tags": []
   },
   "outputs": [
    {
     "data": {
      "text/plain": [
       "GENDER                    2\n",
       "AGE                      39\n",
       "SMOKING                   2\n",
       "YELLOW_FINGERS            2\n",
       "ANXIETY                   2\n",
       "PEER_PRESSURE             2\n",
       "CHRONIC DISEASE           2\n",
       "FATIGUE                   2\n",
       "ALLERGY                   2\n",
       "WHEEZING                  2\n",
       "ALCOHOL CONSUMING         2\n",
       "COUGHING                  2\n",
       "SHORTNESS OF BREATH       2\n",
       "SWALLOWING DIFFICULTY     2\n",
       "CHEST PAIN                2\n",
       "LUNG_CANCER               2\n",
       "dtype: int64"
      ]
     },
     "execution_count": 7,
     "metadata": {},
     "output_type": "execute_result"
    }
   ],
   "source": [
    "data.nunique()"
   ]
  },
  {
   "cell_type": "code",
   "execution_count": 8,
   "id": "361ef392",
   "metadata": {
    "execution": {
     "iopub.execute_input": "2022-07-28T10:34:32.298511Z",
     "iopub.status.busy": "2022-07-28T10:34:32.298021Z",
     "iopub.status.idle": "2022-07-28T10:34:32.303204Z",
     "shell.execute_reply": "2022-07-28T10:34:32.302306Z"
    },
    "papermill": {
     "duration": 0.025908,
     "end_time": "2022-07-28T10:34:32.305311",
     "exception": false,
     "start_time": "2022-07-28T10:34:32.279403",
     "status": "completed"
    },
    "tags": []
   },
   "outputs": [],
   "source": [
    "def multiple_plot(feature):\n",
    "    plt.figure(figsize=(10,5))\n",
    "    #plt.subplot(1,2,1)\n",
    "    sns.countplot(x=feature)\n",
    "    plt.title(f'{feature.name} count plot')\n",
    "   \n",
    "    \n",
    "    plt.show()"
   ]
  },
  {
   "cell_type": "code",
   "execution_count": 9,
   "id": "a1d6b72c",
   "metadata": {
    "execution": {
     "iopub.execute_input": "2022-07-28T10:34:32.341407Z",
     "iopub.status.busy": "2022-07-28T10:34:32.340927Z",
     "iopub.status.idle": "2022-07-28T10:34:35.331421Z",
     "shell.execute_reply": "2022-07-28T10:34:35.330401Z"
    },
    "papermill": {
     "duration": 3.011019,
     "end_time": "2022-07-28T10:34:35.333999",
     "exception": false,
     "start_time": "2022-07-28T10:34:32.322980",
     "status": "completed"
    },
    "tags": []
   },
   "outputs": [
    {
     "data": {
      "image/png": "[encoded data removed]",
      "text/plain": [
       "<Figure size 720x360 with 1 Axes>"
      ]
     },
     "metadata": {
      "needs_background": "light"
     },
     "output_type": "display_data"
    },
    {
     "data": {
      "image/png": "[encoded data removed]",
      "text/plain": [
       "<Figure size 720x360 with 1 Axes>"
      ]
     },
     "metadata": {
      "needs_background": "light"
     },
     "output_type": "display_data"
    },
    {
     "data": {
      "image/png": "[encoded data removed]",
      "text/plain": [
       "<Figure size 720x360 with 1 Axes>"
      ]
     },
     "metadata": {
      "needs_background": "light"
     },
     "output_type": "display_data"
    },
    {
     "data": {
      "image/png": "[encoded data removed]",
      "text/plain": [
       "<Figure size 720x360 with 1 Axes>"
      ]
     },
     "metadata": {
      "needs_background": "light"
     },
     "output_type": "display_data"
    },
    {
     "data": {
      "image/png": "[encoded data removed]",
      "text/plain": [
       "<Figure size 720x360 with 1 Axes>"
      ]
     },
     "metadata": {
      "needs_background": "light"
     },
     "output_type": "display_data"
    },
    {
     "data": {
      "image/png": "[encoded data removed]",
      "text/plain": [
       "<Figure size 720x360 with 1 Axes>"
      ]
     },
     "metadata": {
      "needs_background": "light"
     },
     "output_type": "display_data"
    },
    {
     "data": {
      "image/png": "[encoded data removed]",
      "text/plain": [
       "<Figure size 720x360 with 1 Axes>"
      ]
     },
     "metadata": {
      "needs_background": "light"
     },
     "output_type": "display_data"
    },
    {
     "data": {
      "image/png": "[encoded data removed]",
      "text/plain": [
       "<Figure size 720x360 with 1 Axes>"
      ]
     },
     "metadata": {
      "needs_background": "light"
     },
     "output_type": "display_data"
    },
    {
     "data": {
      "image/png": "[encoded data removed]",
      "text/plain": [
       "<Figure size 720x360 with 1 Axes>"
      ]
     },
     "metadata": {
      "needs_background": "light"
     },
     "output_type": "display_data"
    },
    {
     "data": {
      "image/png": "[encoded data removed]",
      "text/plain": [
       "<Figure size 720x360 with 1 Axes>"
      ]
     },
     "metadata": {
      "needs_background": "light"
     },
     "output_type": "display_data"
    },
    {
     "data": {
      "image/png": "[encoded data removed]",
      "text/plain": [
       "<Figure size 720x360 with 1 Axes>"
      ]
     },
     "metadata": {
      "needs_background": "light"
     },
     "output_type": "display_data"
    },
    {
     "data": {
      "image/png": "[encoded data removed]",
      "text/plain": [
       "<Figure size 720x360 with 1 Axes>"
      ]
     },
     "metadata": {
      "needs_background": "light"
     },
     "output_type": "display_data"
    },
    {
     "data": {
      "image/png": "[encoded data removed]",
      "text/plain": [
       "<Figure size 720x360 with 1 Axes>"
      ]
     },
     "metadata": {
      "needs_background": "light"
     },
     "output_type": "display_data"
    },
    {
     "data": {
      "image/png": "[encoded data removed]",
      "text/plain": [
       "<Figure size 720x360 with 1 Axes>"
      ]
     },
     "metadata": {
      "needs_background": "light"
     },
     "output_type": "display_data"
    },
    {
     "data": {
      "image/png": "[encoded data removed]",
      "text/plain": [
       "<Figure size 720x360 with 1 Axes>"
      ]
     },
     "metadata": {
      "needs_background": "light"
     },
     "output_type": "display_data"
    },
    {
     "data": {
      "image/png": "[encoded data removed]",
      "text/plain": [
       "<Figure size 720x360 with 1 Axes>"
      ]
     },
     "metadata": {
      "needs_background": "light"
     },
     "output_type": "display_data"
    }
   ],
   "source": [
    "for i in data.columns:\n",
    "    multiple_plot(data[i])"
   ]
  },
  {
   "cell_type": "code",
   "execution_count": null,
   "id": "74becedc",
   "metadata": {
    "papermill": {
     "duration": 0.021386,
     "end_time": "2022-07-28T10:34:35.376093",
     "exception": false,
     "start_time": "2022-07-28T10:34:35.354707",
     "status": "completed"
    },
    "tags": []
   },
   "outputs": [],
   "source": []
  },
  {
   "cell_type": "code",
   "execution_count": 10,
   "id": "a2ad94da",
   "metadata": {
    "execution": {
     "iopub.execute_input": "2022-07-28T10:34:35.419242Z",
     "iopub.status.busy": "2022-07-28T10:34:35.418838Z",
     "iopub.status.idle": "2022-07-28T10:34:35.435873Z",
     "shell.execute_reply": "2022-07-28T10:34:35.434670Z"
    },
    "papermill": {
     "duration": 0.042499,
     "end_time": "2022-07-28T10:34:35.439430",
     "exception": false,
     "start_time": "2022-07-28T10:34:35.396931",
     "status": "completed"
    },
    "tags": []
   },
   "outputs": [
    {
     "name": "stdout",
     "output_type": "stream",
     "text": [
      "M    162\n",
      "F    147\n",
      "Name: GENDER, dtype: int64\n",
      "64    20\n",
      "63    19\n",
      "56    19\n",
      "62    18\n",
      "60    17\n",
      "61    16\n",
      "59    15\n",
      "70    15\n",
      "67    13\n",
      "58    13\n",
      "69    11\n",
      "55    11\n",
      "72    10\n",
      "71    10\n",
      "68     9\n",
      "57     9\n",
      "77     9\n",
      "51     8\n",
      "54     8\n",
      "65     7\n",
      "74     6\n",
      "75     5\n",
      "76     4\n",
      "52     4\n",
      "53     4\n",
      "73     4\n",
      "47     4\n",
      "66     4\n",
      "49     3\n",
      "81     2\n",
      "78     2\n",
      "44     2\n",
      "48     2\n",
      "21     1\n",
      "79     1\n",
      "38     1\n",
      "39     1\n",
      "87     1\n",
      "46     1\n",
      "Name: AGE, dtype: int64\n",
      "2    174\n",
      "1    135\n",
      "Name: SMOKING, dtype: int64\n",
      "2    176\n",
      "1    133\n",
      "Name: YELLOW_FINGERS, dtype: int64\n",
      "1    155\n",
      "2    154\n",
      "Name: ANXIETY, dtype: int64\n",
      "2    155\n",
      "1    154\n",
      "Name: PEER_PRESSURE, dtype: int64\n",
      "2    156\n",
      "1    153\n",
      "Name: CHRONIC DISEASE, dtype: int64\n",
      "2    208\n",
      "1    101\n",
      "Name: FATIGUE , dtype: int64\n",
      "2    172\n",
      "1    137\n",
      "Name: ALLERGY , dtype: int64\n",
      "2    172\n",
      "1    137\n",
      "Name: WHEEZING, dtype: int64\n",
      "2    172\n",
      "1    137\n",
      "Name: ALCOHOL CONSUMING, dtype: int64\n",
      "2    179\n",
      "1    130\n",
      "Name: COUGHING, dtype: int64\n",
      "2    198\n",
      "1    111\n",
      "Name: SHORTNESS OF BREATH, dtype: int64\n",
      "1    164\n",
      "2    145\n",
      "Name: SWALLOWING DIFFICULTY, dtype: int64\n",
      "2    172\n",
      "1    137\n",
      "Name: CHEST PAIN, dtype: int64\n",
      "YES    270\n",
      "NO      39\n",
      "Name: LUNG_CANCER, dtype: int64\n"
     ]
    }
   ],
   "source": [
    "for i in data.columns:\n",
    "    print(data[i].value_counts())"
   ]
  },
  {
   "cell_type": "code",
   "execution_count": 11,
   "id": "2fb66507",
   "metadata": {
    "execution": {
     "iopub.execute_input": "2022-07-28T10:34:35.482526Z",
     "iopub.status.busy": "2022-07-28T10:34:35.482138Z",
     "iopub.status.idle": "2022-07-28T10:34:35.490174Z",
     "shell.execute_reply": "2022-07-28T10:34:35.489063Z"
    },
    "papermill": {
     "duration": 0.03225,
     "end_time": "2022-07-28T10:34:35.492528",
     "exception": false,
     "start_time": "2022-07-28T10:34:35.460278",
     "status": "completed"
    },
    "tags": []
   },
   "outputs": [
    {
     "data": {
      "text/plain": [
       "YES    270\n",
       "NO      39\n",
       "Name: LUNG_CANCER, dtype: int64"
      ]
     },
     "execution_count": 11,
     "metadata": {},
     "output_type": "execute_result"
    }
   ],
   "source": [
    "data['LUNG_CANCER'].value_counts()\n",
    "# data is imbalanced data"
   ]
  },
  {
   "cell_type": "code",
   "execution_count": 12,
   "id": "48666596",
   "metadata": {
    "execution": {
     "iopub.execute_input": "2022-07-28T10:34:35.536555Z",
     "iopub.status.busy": "2022-07-28T10:34:35.536119Z",
     "iopub.status.idle": "2022-07-28T10:34:35.676176Z",
     "shell.execute_reply": "2022-07-28T10:34:35.674922Z"
    },
    "papermill": {
     "duration": 0.165837,
     "end_time": "2022-07-28T10:34:35.679030",
     "exception": false,
     "start_time": "2022-07-28T10:34:35.513193",
     "status": "completed"
    },
    "tags": []
   },
   "outputs": [],
   "source": [
    "from sklearn.preprocessing import LabelEncoder\n"
   ]
  },
  {
   "cell_type": "code",
   "execution_count": 13,
   "id": "29857339",
   "metadata": {
    "execution": {
     "iopub.execute_input": "2022-07-28T10:34:35.722075Z",
     "iopub.status.busy": "2022-07-28T10:34:35.721660Z",
     "iopub.status.idle": "2022-07-28T10:34:35.726411Z",
     "shell.execute_reply": "2022-07-28T10:34:35.725291Z"
    },
    "papermill": {
     "duration": 0.029269,
     "end_time": "2022-07-28T10:34:35.728863",
     "exception": false,
     "start_time": "2022-07-28T10:34:35.699594",
     "status": "completed"
    },
    "tags": []
   },
   "outputs": [],
   "source": [
    "label=LabelEncoder()"
   ]
  },
  {
   "cell_type": "code",
   "execution_count": 14,
   "id": "15c25f5f",
   "metadata": {
    "execution": {
     "iopub.execute_input": "2022-07-28T10:34:35.772977Z",
     "iopub.status.busy": "2022-07-28T10:34:35.772243Z",
     "iopub.status.idle": "2022-07-28T10:34:35.779245Z",
     "shell.execute_reply": "2022-07-28T10:34:35.778363Z"
    },
    "papermill": {
     "duration": 0.031345,
     "end_time": "2022-07-28T10:34:35.781340",
     "exception": false,
     "start_time": "2022-07-28T10:34:35.749995",
     "status": "completed"
    },
    "tags": []
   },
   "outputs": [],
   "source": [
    "data['GENDER']=label.fit_transform(data['GENDER'])\n",
    "data['LUNG_CANCER']=label.fit_transform(data['LUNG_CANCER'])"
   ]
  },
  {
   "cell_type": "code",
   "execution_count": 15,
   "id": "01c23093",
   "metadata": {
    "execution": {
     "iopub.execute_input": "2022-07-28T10:34:35.825348Z",
     "iopub.status.busy": "2022-07-28T10:34:35.824921Z",
     "iopub.status.idle": "2022-07-28T10:34:35.838894Z",
     "shell.execute_reply": "2022-07-28T10:34:35.838139Z"
    },
    "papermill": {
     "duration": 0.038509,
     "end_time": "2022-07-28T10:34:35.841080",
     "exception": false,
     "start_time": "2022-07-28T10:34:35.802571",
     "status": "completed"
    },
    "tags": []
   },
   "outputs": [
    {
     "data": {
      "text/html": [
       "<div>\n",
       "<style scoped>\n",
       "    .dataframe tbody tr th:only-of-type {\n",
       "        vertical-align: middle;\n",
       "    }\n",
       "\n",
       "    .dataframe tbody tr th {\n",
       "        vertical-align: top;\n",
       "    }\n",
       "\n",
       "    .dataframe thead th {\n",
       "        text-align: right;\n",
       "    }\n",
       "</style>\n",
       "<table border=\"1\" class=\"dataframe\">\n",
       "  <thead>\n",
       "    <tr style=\"text-align: right;\">\n",
       "      <th></th>\n",
       "      <th>GENDER</th>\n",
       "      <th>AGE</th>\n",
       "      <th>SMOKING</th>\n",
       "      <th>YELLOW_FINGERS</th>\n",
       "      <th>ANXIETY</th>\n",
       "      <th>PEER_PRESSURE</th>\n",
       "      <th>CHRONIC DISEASE</th>\n",
       "      <th>FATIGUE</th>\n",
       "      <th>ALLERGY</th>\n",
       "      <th>WHEEZING</th>\n",
       "      <th>ALCOHOL CONSUMING</th>\n",
       "      <th>COUGHING</th>\n",
       "      <th>SHORTNESS OF BREATH</th>\n",
       "      <th>SWALLOWING DIFFICULTY</th>\n",
       "      <th>CHEST PAIN</th>\n",
       "      <th>LUNG_CANCER</th>\n",
       "    </tr>\n",
       "  </thead>\n",
       "  <tbody>\n",
       "    <tr>\n",
       "      <th>0</th>\n",
       "      <td>1</td>\n",
       "      <td>69</td>\n",
       "      <td>1</td>\n",
       "      <td>2</td>\n",
       "      <td>2</td>\n",
       "      <td>1</td>\n",
       "      <td>1</td>\n",
       "      <td>2</td>\n",
       "      <td>1</td>\n",
       "      <td>2</td>\n",
       "      <td>2</td>\n",
       "      <td>2</td>\n",
       "      <td>2</td>\n",
       "      <td>2</td>\n",
       "      <td>2</td>\n",
       "      <td>1</td>\n",
       "    </tr>\n",
       "    <tr>\n",
       "      <th>1</th>\n",
       "      <td>1</td>\n",
       "      <td>74</td>\n",
       "      <td>2</td>\n",
       "      <td>1</td>\n",
       "      <td>1</td>\n",
       "      <td>1</td>\n",
       "      <td>2</td>\n",
       "      <td>2</td>\n",
       "      <td>2</td>\n",
       "      <td>1</td>\n",
       "      <td>1</td>\n",
       "      <td>1</td>\n",
       "      <td>2</td>\n",
       "      <td>2</td>\n",
       "      <td>2</td>\n",
       "      <td>1</td>\n",
       "    </tr>\n",
       "    <tr>\n",
       "      <th>2</th>\n",
       "      <td>0</td>\n",
       "      <td>59</td>\n",
       "      <td>1</td>\n",
       "      <td>1</td>\n",
       "      <td>1</td>\n",
       "      <td>2</td>\n",
       "      <td>1</td>\n",
       "      <td>2</td>\n",
       "      <td>1</td>\n",
       "      <td>2</td>\n",
       "      <td>1</td>\n",
       "      <td>2</td>\n",
       "      <td>2</td>\n",
       "      <td>1</td>\n",
       "      <td>2</td>\n",
       "      <td>0</td>\n",
       "    </tr>\n",
       "    <tr>\n",
       "      <th>3</th>\n",
       "      <td>1</td>\n",
       "      <td>63</td>\n",
       "      <td>2</td>\n",
       "      <td>2</td>\n",
       "      <td>2</td>\n",
       "      <td>1</td>\n",
       "      <td>1</td>\n",
       "      <td>1</td>\n",
       "      <td>1</td>\n",
       "      <td>1</td>\n",
       "      <td>2</td>\n",
       "      <td>1</td>\n",
       "      <td>1</td>\n",
       "      <td>2</td>\n",
       "      <td>2</td>\n",
       "      <td>0</td>\n",
       "    </tr>\n",
       "    <tr>\n",
       "      <th>4</th>\n",
       "      <td>0</td>\n",
       "      <td>63</td>\n",
       "      <td>1</td>\n",
       "      <td>2</td>\n",
       "      <td>1</td>\n",
       "      <td>1</td>\n",
       "      <td>1</td>\n",
       "      <td>1</td>\n",
       "      <td>1</td>\n",
       "      <td>2</td>\n",
       "      <td>1</td>\n",
       "      <td>2</td>\n",
       "      <td>2</td>\n",
       "      <td>1</td>\n",
       "      <td>1</td>\n",
       "      <td>0</td>\n",
       "    </tr>\n",
       "  </tbody>\n",
       "</table>\n",
       "</div>"
      ],
      "text/plain": [
       "   GENDER  AGE  SMOKING  YELLOW_FINGERS  ANXIETY  PEER_PRESSURE  \\\n",
       "0       1   69        1               2        2              1   \n",
       "1       1   74        2               1        1              1   \n",
       "2       0   59        1               1        1              2   \n",
       "3       1   63        2               2        2              1   \n",
       "4       0   63        1               2        1              1   \n",
       "\n",
       "   CHRONIC DISEASE  FATIGUE   ALLERGY   WHEEZING  ALCOHOL CONSUMING  COUGHING  \\\n",
       "0                1         2         1         2                  2         2   \n",
       "1                2         2         2         1                  1         1   \n",
       "2                1         2         1         2                  1         2   \n",
       "3                1         1         1         1                  2         1   \n",
       "4                1         1         1         2                  1         2   \n",
       "\n",
       "   SHORTNESS OF BREATH  SWALLOWING DIFFICULTY  CHEST PAIN  LUNG_CANCER  \n",
       "0                    2                      2           2            1  \n",
       "1                    2                      2           2            1  \n",
       "2                    2                      1           2            0  \n",
       "3                    1                      2           2            0  \n",
       "4                    2                      1           1            0  "
      ]
     },
     "execution_count": 15,
     "metadata": {},
     "output_type": "execute_result"
    }
   ],
   "source": [
    "data.head()"
   ]
  },
  {
   "cell_type": "code",
   "execution_count": 16,
   "id": "c75dc658",
   "metadata": {
    "execution": {
     "iopub.execute_input": "2022-07-28T10:34:35.886433Z",
     "iopub.status.busy": "2022-07-28T10:34:35.885702Z",
     "iopub.status.idle": "2022-07-28T10:34:35.891279Z",
     "shell.execute_reply": "2022-07-28T10:34:35.890484Z"
    },
    "papermill": {
     "duration": 0.031596,
     "end_time": "2022-07-28T10:34:35.893523",
     "exception": false,
     "start_time": "2022-07-28T10:34:35.861927",
     "status": "completed"
    },
    "tags": []
   },
   "outputs": [],
   "source": [
    "X=data.drop('LUNG_CANCER',axis=1)\n",
    "Y=data['LUNG_CANCER']"
   ]
  },
  {
   "cell_type": "code",
   "execution_count": 17,
   "id": "9caad088",
   "metadata": {
    "execution": {
     "iopub.execute_input": "2022-07-28T10:34:35.937402Z",
     "iopub.status.busy": "2022-07-28T10:34:35.936703Z",
     "iopub.status.idle": "2022-07-28T10:34:35.999717Z",
     "shell.execute_reply": "2022-07-28T10:34:35.998534Z"
    },
    "papermill": {
     "duration": 0.088337,
     "end_time": "2022-07-28T10:34:36.002738",
     "exception": false,
     "start_time": "2022-07-28T10:34:35.914401",
     "status": "completed"
    },
    "tags": []
   },
   "outputs": [],
   "source": [
    "from sklearn.model_selection import train_test_split\n"
   ]
  },
  {
   "cell_type": "code",
   "execution_count": 18,
   "id": "25e1587a",
   "metadata": {
    "execution": {
     "iopub.execute_input": "2022-07-28T10:34:36.046513Z",
     "iopub.status.busy": "2022-07-28T10:34:36.046102Z",
     "iopub.status.idle": "2022-07-28T10:34:36.054316Z",
     "shell.execute_reply": "2022-07-28T10:34:36.053193Z"
    },
    "papermill": {
     "duration": 0.032654,
     "end_time": "2022-07-28T10:34:36.056707",
     "exception": false,
     "start_time": "2022-07-28T10:34:36.024053",
     "status": "completed"
    },
    "tags": []
   },
   "outputs": [],
   "source": [
    "X_train,X_test,y_train,y_test=train_test_split(X,Y,test_size=0.2,random_state=42)"
   ]
  },
  {
   "cell_type": "code",
   "execution_count": 19,
   "id": "0daf484b",
   "metadata": {
    "execution": {
     "iopub.execute_input": "2022-07-28T10:34:36.101975Z",
     "iopub.status.busy": "2022-07-28T10:34:36.101339Z",
     "iopub.status.idle": "2022-07-28T10:34:36.108722Z",
     "shell.execute_reply": "2022-07-28T10:34:36.107688Z"
    },
    "papermill": {
     "duration": 0.032233,
     "end_time": "2022-07-28T10:34:36.110848",
     "exception": false,
     "start_time": "2022-07-28T10:34:36.078615",
     "status": "completed"
    },
    "tags": []
   },
   "outputs": [
    {
     "data": {
      "text/plain": [
       "((247, 15), (62, 15), (247,), (62,))"
      ]
     },
     "execution_count": 19,
     "metadata": {},
     "output_type": "execute_result"
    }
   ],
   "source": [
    "X_train.shape,X_test.shape,y_train.shape,y_test.shape"
   ]
  },
  {
   "cell_type": "code",
   "execution_count": 20,
   "id": "79e9b5f3",
   "metadata": {
    "execution": {
     "iopub.execute_input": "2022-07-28T10:34:36.155168Z",
     "iopub.status.busy": "2022-07-28T10:34:36.154348Z",
     "iopub.status.idle": "2022-07-28T10:34:36.636120Z",
     "shell.execute_reply": "2022-07-28T10:34:36.634797Z"
    },
    "papermill": {
     "duration": 0.506851,
     "end_time": "2022-07-28T10:34:36.638967",
     "exception": false,
     "start_time": "2022-07-28T10:34:36.132116",
     "status": "completed"
    },
    "tags": []
   },
   "outputs": [],
   "source": [
    "from sklearn.linear_model import LogisticRegression\n",
    "from sklearn.tree import DecisionTreeClassifier\n",
    "from sklearn.ensemble import RandomForestClassifier\n",
    "from sklearn.ensemble import GradientBoostingClassifier\n",
    "import xgboost\n",
    "from xgboost import XGBClassifier"
   ]
  },
  {
   "cell_type": "code",
   "execution_count": 21,
   "id": "ebf422e4",
   "metadata": {
    "execution": {
     "iopub.execute_input": "2022-07-28T10:34:36.683585Z",
     "iopub.status.busy": "2022-07-28T10:34:36.683150Z",
     "iopub.status.idle": "2022-07-28T10:34:36.688153Z",
     "shell.execute_reply": "2022-07-28T10:34:36.687343Z"
    },
    "papermill": {
     "duration": 0.029792,
     "end_time": "2022-07-28T10:34:36.690111",
     "exception": false,
     "start_time": "2022-07-28T10:34:36.660319",
     "status": "completed"
    },
    "tags": []
   },
   "outputs": [],
   "source": [
    "from sklearn.metrics import confusion_matrix\n",
    "from sklearn.metrics import classification_report\n",
    "from sklearn.metrics import plot_confusion_matrix\n",
    "from sklearn.metrics import accuracy_score"
   ]
  },
  {
   "cell_type": "code",
   "execution_count": 22,
   "id": "6b84e5f3",
   "metadata": {
    "execution": {
     "iopub.execute_input": "2022-07-28T10:34:36.734518Z",
     "iopub.status.busy": "2022-07-28T10:34:36.734093Z",
     "iopub.status.idle": "2022-07-28T10:34:36.783535Z",
     "shell.execute_reply": "2022-07-28T10:34:36.782256Z"
    },
    "papermill": {
     "duration": 0.075525,
     "end_time": "2022-07-28T10:34:36.786925",
     "exception": false,
     "start_time": "2022-07-28T10:34:36.711400",
     "status": "completed"
    },
    "tags": []
   },
   "outputs": [
    {
     "name": "stderr",
     "output_type": "stream",
     "text": [
      "/opt/conda/lib/python3.7/site-packages/sklearn/linear_model/_logistic.py:818: ConvergenceWarning: lbfgs failed to converge (status=1):\n",
      "STOP: TOTAL NO. of ITERATIONS REACHED LIMIT.\n",
      "\n",
      "Increase the number of iterations (max_iter) or scale the data as shown in:\n",
      "    https://scikit-learn.org/stable/modules/preprocessing.html\n",
      "Please also refer to the documentation for alternative solver options:\n",
      "    https://scikit-learn.org/stable/modules/linear_model.html#logistic-regression\n",
      "  extra_warning_msg=_LOGISTIC_SOLVER_CONVERGENCE_MSG,\n"
     ]
    }
   ],
   "source": [
    "LR_model=LogisticRegression()\n",
    "LR_model.fit(X_train,y_train)\n",
    "LR_predict=LR_model.predict(X_test)"
   ]
  },
  {
   "cell_type": "code",
   "execution_count": 23,
   "id": "ade02a5a",
   "metadata": {
    "execution": {
     "iopub.execute_input": "2022-07-28T10:34:36.832558Z",
     "iopub.status.busy": "2022-07-28T10:34:36.832150Z",
     "iopub.status.idle": "2022-07-28T10:34:36.839418Z",
     "shell.execute_reply": "2022-07-28T10:34:36.838294Z"
    },
    "papermill": {
     "duration": 0.032329,
     "end_time": "2022-07-28T10:34:36.841666",
     "exception": false,
     "start_time": "2022-07-28T10:34:36.809337",
     "status": "completed"
    },
    "tags": []
   },
   "outputs": [
    {
     "data": {
      "text/plain": [
       "array([1, 1, 1, 1, 1, 1, 1, 1, 1, 1, 1, 1, 1, 1, 1, 1, 1, 1, 1, 1, 0, 1,\n",
       "       1, 1, 1, 1, 1, 1, 1, 1, 1, 1, 1, 1, 1, 1, 1, 1, 1, 1, 1, 1, 1, 1,\n",
       "       1, 1, 1, 1, 0, 1, 1, 1, 1, 1, 1, 1, 1, 1, 1, 1, 1, 1])"
      ]
     },
     "execution_count": 23,
     "metadata": {},
     "output_type": "execute_result"
    }
   ],
   "source": [
    "LR_predict"
   ]
  },
  {
   "cell_type": "code",
   "execution_count": 24,
   "id": "0047c9b3",
   "metadata": {
    "execution": {
     "iopub.execute_input": "2022-07-28T10:34:36.885651Z",
     "iopub.status.busy": "2022-07-28T10:34:36.885266Z",
     "iopub.status.idle": "2022-07-28T10:34:36.893850Z",
     "shell.execute_reply": "2022-07-28T10:34:36.892712Z"
    },
    "papermill": {
     "duration": 0.033678,
     "end_time": "2022-07-28T10:34:36.896392",
     "exception": false,
     "start_time": "2022-07-28T10:34:36.862714",
     "status": "completed"
    },
    "tags": []
   },
   "outputs": [
    {
     "name": "stdout",
     "output_type": "stream",
     "text": [
      "[[ 1  1]\n",
      " [ 1 59]]\n"
     ]
    }
   ],
   "source": [
    "print(confusion_matrix(y_test,LR_predict))"
   ]
  },
  {
   "cell_type": "code",
   "execution_count": 25,
   "id": "3cc2ec9e",
   "metadata": {
    "execution": {
     "iopub.execute_input": "2022-07-28T10:34:36.940642Z",
     "iopub.status.busy": "2022-07-28T10:34:36.939610Z",
     "iopub.status.idle": "2022-07-28T10:34:36.950034Z",
     "shell.execute_reply": "2022-07-28T10:34:36.948902Z"
    },
    "papermill": {
     "duration": 0.035185,
     "end_time": "2022-07-28T10:34:36.952541",
     "exception": false,
     "start_time": "2022-07-28T10:34:36.917356",
     "status": "completed"
    },
    "tags": []
   },
   "outputs": [
    {
     "name": "stdout",
     "output_type": "stream",
     "text": [
      "              precision    recall  f1-score   support\n",
      "\n",
      "           0       0.50      0.50      0.50         2\n",
      "           1       0.98      0.98      0.98        60\n",
      "\n",
      "    accuracy                           0.97        62\n",
      "   macro avg       0.74      0.74      0.74        62\n",
      "weighted avg       0.97      0.97      0.97        62\n",
      "\n"
     ]
    }
   ],
   "source": [
    "print(classification_report(y_test,LR_predict))"
   ]
  },
  {
   "cell_type": "code",
   "execution_count": 26,
   "id": "043371fd",
   "metadata": {
    "execution": {
     "iopub.execute_input": "2022-07-28T10:34:36.998011Z",
     "iopub.status.busy": "2022-07-28T10:34:36.997086Z",
     "iopub.status.idle": "2022-07-28T10:34:37.208758Z",
     "shell.execute_reply": "2022-07-28T10:34:37.207958Z"
    },
    "papermill": {
     "duration": 0.237047,
     "end_time": "2022-07-28T10:34:37.211042",
     "exception": false,
     "start_time": "2022-07-28T10:34:36.973995",
     "status": "completed"
    },
    "tags": []
   },
   "outputs": [
    {
     "name": "stderr",
     "output_type": "stream",
     "text": [
      "/opt/conda/lib/python3.7/site-packages/sklearn/utils/deprecation.py:87: FutureWarning: Function plot_confusion_matrix is deprecated; Function `plot_confusion_matrix` is deprecated in 1.0 and will be removed in 1.2. Use one of the class methods: ConfusionMatrixDisplay.from_predictions or ConfusionMatrixDisplay.from_estimator.\n",
      "  warnings.warn(msg, category=FutureWarning)\n"
     ]
    },
    {
     "data": {
      "image/png": "[encoded data removed]",
      "text/plain": [
       "<Figure size 432x288 with 2 Axes>"
      ]
     },
     "metadata": {
      "needs_background": "light"
     },
     "output_type": "display_data"
    }
   ],
   "source": [
    "plot_confusion_matrix(LR_model,X_test,y_test)\n",
    "plt.show()"
   ]
  },
  {
   "cell_type": "code",
   "execution_count": 27,
   "id": "d45af58c",
   "metadata": {
    "execution": {
     "iopub.execute_input": "2022-07-28T10:34:37.256313Z",
     "iopub.status.busy": "2022-07-28T10:34:37.255559Z",
     "iopub.status.idle": "2022-07-28T10:34:37.262638Z",
     "shell.execute_reply": "2022-07-28T10:34:37.261289Z"
    },
    "papermill": {
     "duration": 0.032424,
     "end_time": "2022-07-28T10:34:37.264975",
     "exception": false,
     "start_time": "2022-07-28T10:34:37.232551",
     "status": "completed"
    },
    "tags": []
   },
   "outputs": [
    {
     "name": "stdout",
     "output_type": "stream",
     "text": [
      "Linear Regression Accuracy score: 96.7741935483871\n"
     ]
    }
   ],
   "source": [
    "print(\"Linear Regression Accuracy score:\",accuracy_score(LR_predict,y_test)*100)"
   ]
  },
  {
   "cell_type": "code",
   "execution_count": 28,
   "id": "3ae6a574",
   "metadata": {
    "execution": {
     "iopub.execute_input": "2022-07-28T10:34:37.310339Z",
     "iopub.status.busy": "2022-07-28T10:34:37.309913Z",
     "iopub.status.idle": "2022-07-28T10:34:37.314789Z",
     "shell.execute_reply": "2022-07-28T10:34:37.313514Z"
    },
    "papermill": {
     "duration": 0.030531,
     "end_time": "2022-07-28T10:34:37.317350",
     "exception": false,
     "start_time": "2022-07-28T10:34:37.286819",
     "status": "completed"
    },
    "tags": []
   },
   "outputs": [],
   "source": [
    "DT_model=DecisionTreeClassifier()"
   ]
  },
  {
   "cell_type": "code",
   "execution_count": 29,
   "id": "88f950c6",
   "metadata": {
    "execution": {
     "iopub.execute_input": "2022-07-28T10:34:37.363459Z",
     "iopub.status.busy": "2022-07-28T10:34:37.362824Z",
     "iopub.status.idle": "2022-07-28T10:34:37.376195Z",
     "shell.execute_reply": "2022-07-28T10:34:37.375310Z"
    },
    "papermill": {
     "duration": 0.03874,
     "end_time": "2022-07-28T10:34:37.378507",
     "exception": false,
     "start_time": "2022-07-28T10:34:37.339767",
     "status": "completed"
    },
    "tags": []
   },
   "outputs": [
    {
     "data": {
      "text/plain": [
       "DecisionTreeClassifier()"
      ]
     },
     "execution_count": 29,
     "metadata": {},
     "output_type": "execute_result"
    }
   ],
   "source": [
    "DT_model.fit(X_train,y_train)"
   ]
  },
  {
   "cell_type": "code",
   "execution_count": 30,
   "id": "d0d9ace9",
   "metadata": {
    "execution": {
     "iopub.execute_input": "2022-07-28T10:34:37.425963Z",
     "iopub.status.busy": "2022-07-28T10:34:37.424399Z",
     "iopub.status.idle": "2022-07-28T10:34:37.432794Z",
     "shell.execute_reply": "2022-07-28T10:34:37.431709Z"
    },
    "papermill": {
     "duration": 0.034619,
     "end_time": "2022-07-28T10:34:37.435127",
     "exception": false,
     "start_time": "2022-07-28T10:34:37.400508",
     "status": "completed"
    },
    "tags": []
   },
   "outputs": [],
   "source": [
    "DT_predict=DT_model.predict(X_test)"
   ]
  },
  {
   "cell_type": "code",
   "execution_count": 31,
   "id": "c7573b05",
   "metadata": {
    "execution": {
     "iopub.execute_input": "2022-07-28T10:34:37.481776Z",
     "iopub.status.busy": "2022-07-28T10:34:37.480693Z",
     "iopub.status.idle": "2022-07-28T10:34:37.489091Z",
     "shell.execute_reply": "2022-07-28T10:34:37.486890Z"
    },
    "papermill": {
     "duration": 0.0361,
     "end_time": "2022-07-28T10:34:37.493539",
     "exception": false,
     "start_time": "2022-07-28T10:34:37.457439",
     "status": "completed"
    },
    "tags": []
   },
   "outputs": [
    {
     "name": "stdout",
     "output_type": "stream",
     "text": [
      "[[ 1  1]\n",
      " [ 1 59]]\n"
     ]
    }
   ],
   "source": [
    "print(confusion_matrix(y_test,DT_predict))"
   ]
  },
  {
   "cell_type": "code",
   "execution_count": 32,
   "id": "2caee06d",
   "metadata": {
    "execution": {
     "iopub.execute_input": "2022-07-28T10:34:37.540057Z",
     "iopub.status.busy": "2022-07-28T10:34:37.539361Z",
     "iopub.status.idle": "2022-07-28T10:34:37.549344Z",
     "shell.execute_reply": "2022-07-28T10:34:37.547652Z"
    },
    "papermill": {
     "duration": 0.03568,
     "end_time": "2022-07-28T10:34:37.551610",
     "exception": false,
     "start_time": "2022-07-28T10:34:37.515930",
     "status": "completed"
    },
    "tags": []
   },
   "outputs": [
    {
     "name": "stdout",
     "output_type": "stream",
     "text": [
      "              precision    recall  f1-score   support\n",
      "\n",
      "           0       0.50      0.50      0.50         2\n",
      "           1       0.98      0.98      0.98        60\n",
      "\n",
      "    accuracy                           0.97        62\n",
      "   macro avg       0.74      0.74      0.74        62\n",
      "weighted avg       0.97      0.97      0.97        62\n",
      "\n"
     ]
    }
   ],
   "source": [
    "print(classification_report(y_test,DT_predict))"
   ]
  },
  {
   "cell_type": "code",
   "execution_count": 33,
   "id": "002a0d49",
   "metadata": {
    "execution": {
     "iopub.execute_input": "2022-07-28T10:34:37.599268Z",
     "iopub.status.busy": "2022-07-28T10:34:37.598863Z",
     "iopub.status.idle": "2022-07-28T10:34:37.826331Z",
     "shell.execute_reply": "2022-07-28T10:34:37.825032Z"
    },
    "papermill": {
     "duration": 0.25508,
     "end_time": "2022-07-28T10:34:37.829092",
     "exception": false,
     "start_time": "2022-07-28T10:34:37.574012",
     "status": "completed"
    },
    "tags": []
   },
   "outputs": [
    {
     "name": "stderr",
     "output_type": "stream",
     "text": [
      "/opt/conda/lib/python3.7/site-packages/sklearn/utils/deprecation.py:87: FutureWarning: Function plot_confusion_matrix is deprecated; Function `plot_confusion_matrix` is deprecated in 1.0 and will be removed in 1.2. Use one of the class methods: ConfusionMatrixDisplay.from_predictions or ConfusionMatrixDisplay.from_estimator.\n",
      "  warnings.warn(msg, category=FutureWarning)\n"
     ]
    },
    {
     "data": {
      "text/plain": [
       "<sklearn.metrics._plot.confusion_matrix.ConfusionMatrixDisplay at 0x7f21c030de50>"
      ]
     },
     "execution_count": 33,
     "metadata": {},
     "output_type": "execute_result"
    },
    {
     "data": {
      "image/png": "[encoded data removed]",
      "text/plain": [
       "<Figure size 432x288 with 2 Axes>"
      ]
     },
     "metadata": {
      "needs_background": "light"
     },
     "output_type": "display_data"
    }
   ],
   "source": [
    "plot_confusion_matrix(DT_model,X_train,y_train)"
   ]
  },
  {
   "cell_type": "code",
   "execution_count": 34,
   "id": "cdd99a2a",
   "metadata": {
    "execution": {
     "iopub.execute_input": "2022-07-28T10:34:37.878836Z",
     "iopub.status.busy": "2022-07-28T10:34:37.877538Z",
     "iopub.status.idle": "2022-07-28T10:34:38.092254Z",
     "shell.execute_reply": "2022-07-28T10:34:38.091104Z"
    },
    "papermill": {
     "duration": 0.241263,
     "end_time": "2022-07-28T10:34:38.094873",
     "exception": false,
     "start_time": "2022-07-28T10:34:37.853610",
     "status": "completed"
    },
    "tags": []
   },
   "outputs": [
    {
     "name": "stderr",
     "output_type": "stream",
     "text": [
      "/opt/conda/lib/python3.7/site-packages/sklearn/utils/deprecation.py:87: FutureWarning: Function plot_confusion_matrix is deprecated; Function `plot_confusion_matrix` is deprecated in 1.0 and will be removed in 1.2. Use one of the class methods: ConfusionMatrixDisplay.from_predictions or ConfusionMatrixDisplay.from_estimator.\n",
      "  warnings.warn(msg, category=FutureWarning)\n"
     ]
    },
    {
     "data": {
      "text/plain": [
       "<sklearn.metrics._plot.confusion_matrix.ConfusionMatrixDisplay at 0x7f21c0357ad0>"
      ]
     },
     "execution_count": 34,
     "metadata": {},
     "output_type": "execute_result"
    },
    {
     "data": {
      "image/png": "[encoded data removed]",
      "text/plain": [
       "<Figure size 432x288 with 2 Axes>"
      ]
     },
     "metadata": {
      "needs_background": "light"
     },
     "output_type": "display_data"
    }
   ],
   "source": [
    "plot_confusion_matrix(DT_model,X_test,y_test)"
   ]
  },
  {
   "cell_type": "code",
   "execution_count": 35,
   "id": "bd627154",
   "metadata": {
    "execution": {
     "iopub.execute_input": "2022-07-28T10:34:38.143029Z",
     "iopub.status.busy": "2022-07-28T10:34:38.142318Z",
     "iopub.status.idle": "2022-07-28T10:34:38.148898Z",
     "shell.execute_reply": "2022-07-28T10:34:38.147472Z"
    },
    "papermill": {
     "duration": 0.033483,
     "end_time": "2022-07-28T10:34:38.151225",
     "exception": false,
     "start_time": "2022-07-28T10:34:38.117742",
     "status": "completed"
    },
    "tags": []
   },
   "outputs": [
    {
     "name": "stdout",
     "output_type": "stream",
     "text": [
      "Decision tree accuracy score: 96.7741935483871\n"
     ]
    }
   ],
   "source": [
    "print(\"Decision tree accuracy score:\",accuracy_score(y_test,DT_predict)*100)"
   ]
  },
  {
   "cell_type": "code",
   "execution_count": 36,
   "id": "36adf5fa",
   "metadata": {
    "execution": {
     "iopub.execute_input": "2022-07-28T10:34:38.199779Z",
     "iopub.status.busy": "2022-07-28T10:34:38.199035Z",
     "iopub.status.idle": "2022-07-28T10:34:38.203414Z",
     "shell.execute_reply": "2022-07-28T10:34:38.202587Z"
    },
    "papermill": {
     "duration": 0.031533,
     "end_time": "2022-07-28T10:34:38.205706",
     "exception": false,
     "start_time": "2022-07-28T10:34:38.174173",
     "status": "completed"
    },
    "tags": []
   },
   "outputs": [],
   "source": [
    "RF_model=RandomForestClassifier()"
   ]
  },
  {
   "cell_type": "code",
   "execution_count": 37,
   "id": "b082854c",
   "metadata": {
    "execution": {
     "iopub.execute_input": "2022-07-28T10:34:38.254197Z",
     "iopub.status.busy": "2022-07-28T10:34:38.253523Z",
     "iopub.status.idle": "2022-07-28T10:34:38.438724Z",
     "shell.execute_reply": "2022-07-28T10:34:38.437422Z"
    },
    "papermill": {
     "duration": 0.212269,
     "end_time": "2022-07-28T10:34:38.441317",
     "exception": false,
     "start_time": "2022-07-28T10:34:38.229048",
     "status": "completed"
    },
    "tags": []
   },
   "outputs": [
    {
     "data": {
      "text/plain": [
       "RandomForestClassifier()"
      ]
     },
     "execution_count": 37,
     "metadata": {},
     "output_type": "execute_result"
    }
   ],
   "source": [
    "RF_model.fit(X_train,y_train)"
   ]
  },
  {
   "cell_type": "code",
   "execution_count": 38,
   "id": "46c824b4",
   "metadata": {
    "execution": {
     "iopub.execute_input": "2022-07-28T10:34:38.489867Z",
     "iopub.status.busy": "2022-07-28T10:34:38.489504Z",
     "iopub.status.idle": "2022-07-28T10:34:38.509173Z",
     "shell.execute_reply": "2022-07-28T10:34:38.508030Z"
    },
    "papermill": {
     "duration": 0.04696,
     "end_time": "2022-07-28T10:34:38.511713",
     "exception": false,
     "start_time": "2022-07-28T10:34:38.464753",
     "status": "completed"
    },
    "tags": []
   },
   "outputs": [],
   "source": [
    "RF_predict=RF_model.predict(X_test)"
   ]
  },
  {
   "cell_type": "code",
   "execution_count": 39,
   "id": "2ef61900",
   "metadata": {
    "execution": {
     "iopub.execute_input": "2022-07-28T10:34:38.560534Z",
     "iopub.status.busy": "2022-07-28T10:34:38.560130Z",
     "iopub.status.idle": "2022-07-28T10:34:38.566568Z",
     "shell.execute_reply": "2022-07-28T10:34:38.565282Z"
    },
    "papermill": {
     "duration": 0.033897,
     "end_time": "2022-07-28T10:34:38.568985",
     "exception": false,
     "start_time": "2022-07-28T10:34:38.535088",
     "status": "completed"
    },
    "tags": []
   },
   "outputs": [
    {
     "name": "stdout",
     "output_type": "stream",
     "text": [
      "[[ 1  1]\n",
      " [ 1 59]]\n"
     ]
    }
   ],
   "source": [
    "print(confusion_matrix(y_test,RF_predict))"
   ]
  },
  {
   "cell_type": "code",
   "execution_count": 40,
   "id": "394f6c40",
   "metadata": {
    "execution": {
     "iopub.execute_input": "2022-07-28T10:34:38.618570Z",
     "iopub.status.busy": "2022-07-28T10:34:38.618198Z",
     "iopub.status.idle": "2022-07-28T10:34:38.845924Z",
     "shell.execute_reply": "2022-07-28T10:34:38.844706Z"
    },
    "papermill": {
     "duration": 0.255617,
     "end_time": "2022-07-28T10:34:38.848322",
     "exception": false,
     "start_time": "2022-07-28T10:34:38.592705",
     "status": "completed"
    },
    "tags": []
   },
   "outputs": [
    {
     "name": "stderr",
     "output_type": "stream",
     "text": [
      "/opt/conda/lib/python3.7/site-packages/sklearn/utils/deprecation.py:87: FutureWarning: Function plot_confusion_matrix is deprecated; Function `plot_confusion_matrix` is deprecated in 1.0 and will be removed in 1.2. Use one of the class methods: ConfusionMatrixDisplay.from_predictions or ConfusionMatrixDisplay.from_estimator.\n",
      "  warnings.warn(msg, category=FutureWarning)\n"
     ]
    },
    {
     "data": {
      "text/plain": [
       "<sklearn.metrics._plot.confusion_matrix.ConfusionMatrixDisplay at 0x7f21c06fd7d0>"
      ]
     },
     "execution_count": 40,
     "metadata": {},
     "output_type": "execute_result"
    },
    {
     "data": {
      "image/png": "[encoded data removed]",
      "text/plain": [
       "<Figure size 432x288 with 2 Axes>"
      ]
     },
     "metadata": {
      "needs_background": "light"
     },
     "output_type": "display_data"
    }
   ],
   "source": [
    "plot_confusion_matrix(RF_model,X_test,y_test)"
   ]
  },
  {
   "cell_type": "code",
   "execution_count": 41,
   "id": "7ab790e5",
   "metadata": {
    "execution": {
     "iopub.execute_input": "2022-07-28T10:34:38.897133Z",
     "iopub.status.busy": "2022-07-28T10:34:38.896735Z",
     "iopub.status.idle": "2022-07-28T10:34:38.903157Z",
     "shell.execute_reply": "2022-07-28T10:34:38.901921Z"
    },
    "papermill": {
     "duration": 0.033874,
     "end_time": "2022-07-28T10:34:38.905554",
     "exception": false,
     "start_time": "2022-07-28T10:34:38.871680",
     "status": "completed"
    },
    "tags": []
   },
   "outputs": [
    {
     "name": "stdout",
     "output_type": "stream",
     "text": [
      "Accuracy Score: 96.7741935483871\n"
     ]
    }
   ],
   "source": [
    "print(\"Accuracy Score:\",accuracy_score(y_test,RF_predict)*100)"
   ]
  },
  {
   "cell_type": "code",
   "execution_count": 42,
   "id": "2965af02",
   "metadata": {
    "execution": {
     "iopub.execute_input": "2022-07-28T10:34:38.955113Z",
     "iopub.status.busy": "2022-07-28T10:34:38.954750Z",
     "iopub.status.idle": "2022-07-28T10:34:38.959986Z",
     "shell.execute_reply": "2022-07-28T10:34:38.959165Z"
    },
    "papermill": {
     "duration": 0.033179,
     "end_time": "2022-07-28T10:34:38.962114",
     "exception": false,
     "start_time": "2022-07-28T10:34:38.928935",
     "status": "completed"
    },
    "tags": []
   },
   "outputs": [],
   "source": [
    "GB_model=GradientBoostingClassifier()"
   ]
  },
  {
   "cell_type": "code",
   "execution_count": 43,
   "id": "6a6207d2",
   "metadata": {
    "execution": {
     "iopub.execute_input": "2022-07-28T10:34:39.011226Z",
     "iopub.status.busy": "2022-07-28T10:34:39.010831Z",
     "iopub.status.idle": "2022-07-28T10:34:39.103590Z",
     "shell.execute_reply": "2022-07-28T10:34:39.102358Z"
    },
    "papermill": {
     "duration": 0.120302,
     "end_time": "2022-07-28T10:34:39.106022",
     "exception": false,
     "start_time": "2022-07-28T10:34:38.985720",
     "status": "completed"
    },
    "tags": []
   },
   "outputs": [
    {
     "data": {
      "text/plain": [
       "GradientBoostingClassifier()"
      ]
     },
     "execution_count": 43,
     "metadata": {},
     "output_type": "execute_result"
    }
   ],
   "source": [
    "GB_model.fit(X_train,y_train)"
   ]
  },
  {
   "cell_type": "code",
   "execution_count": 44,
   "id": "814b0cb7",
   "metadata": {
    "execution": {
     "iopub.execute_input": "2022-07-28T10:34:39.157677Z",
     "iopub.status.busy": "2022-07-28T10:34:39.156977Z",
     "iopub.status.idle": "2022-07-28T10:34:39.164785Z",
     "shell.execute_reply": "2022-07-28T10:34:39.163675Z"
    },
    "papermill": {
     "duration": 0.037744,
     "end_time": "2022-07-28T10:34:39.167395",
     "exception": false,
     "start_time": "2022-07-28T10:34:39.129651",
     "status": "completed"
    },
    "tags": []
   },
   "outputs": [],
   "source": [
    "GB_predict=GB_model.predict(X_test)"
   ]
  },
  {
   "cell_type": "code",
   "execution_count": 45,
   "id": "c636aafa",
   "metadata": {
    "execution": {
     "iopub.execute_input": "2022-07-28T10:34:39.216943Z",
     "iopub.status.busy": "2022-07-28T10:34:39.216187Z",
     "iopub.status.idle": "2022-07-28T10:34:39.223379Z",
     "shell.execute_reply": "2022-07-28T10:34:39.222134Z"
    },
    "papermill": {
     "duration": 0.034835,
     "end_time": "2022-07-28T10:34:39.226107",
     "exception": false,
     "start_time": "2022-07-28T10:34:39.191272",
     "status": "completed"
    },
    "tags": []
   },
   "outputs": [
    {
     "name": "stdout",
     "output_type": "stream",
     "text": [
      "[[ 1  1]\n",
      " [ 2 58]]\n"
     ]
    }
   ],
   "source": [
    "print(confusion_matrix(y_test,GB_predict))"
   ]
  },
  {
   "cell_type": "code",
   "execution_count": 46,
   "id": "7fa71458",
   "metadata": {
    "execution": {
     "iopub.execute_input": "2022-07-28T10:34:39.275378Z",
     "iopub.status.busy": "2022-07-28T10:34:39.274991Z",
     "iopub.status.idle": "2022-07-28T10:34:39.286905Z",
     "shell.execute_reply": "2022-07-28T10:34:39.284962Z"
    },
    "papermill": {
     "duration": 0.039152,
     "end_time": "2022-07-28T10:34:39.289124",
     "exception": false,
     "start_time": "2022-07-28T10:34:39.249972",
     "status": "completed"
    },
    "tags": []
   },
   "outputs": [
    {
     "name": "stdout",
     "output_type": "stream",
     "text": [
      "              precision    recall  f1-score   support\n",
      "\n",
      "           0       0.33      0.50      0.40         2\n",
      "           1       0.98      0.97      0.97        60\n",
      "\n",
      "    accuracy                           0.95        62\n",
      "   macro avg       0.66      0.73      0.69        62\n",
      "weighted avg       0.96      0.95      0.96        62\n",
      "\n"
     ]
    }
   ],
   "source": [
    "print(classification_report(y_test,GB_predict))"
   ]
  },
  {
   "cell_type": "code",
   "execution_count": 47,
   "id": "6c5f041c",
   "metadata": {
    "execution": {
     "iopub.execute_input": "2022-07-28T10:34:39.339153Z",
     "iopub.status.busy": "2022-07-28T10:34:39.338760Z",
     "iopub.status.idle": "2022-07-28T10:34:39.565590Z",
     "shell.execute_reply": "2022-07-28T10:34:39.564557Z"
    },
    "papermill": {
     "duration": 0.254612,
     "end_time": "2022-07-28T10:34:39.567863",
     "exception": false,
     "start_time": "2022-07-28T10:34:39.313251",
     "status": "completed"
    },
    "tags": []
   },
   "outputs": [
    {
     "name": "stderr",
     "output_type": "stream",
     "text": [
      "/opt/conda/lib/python3.7/site-packages/sklearn/utils/deprecation.py:87: FutureWarning: Function plot_confusion_matrix is deprecated; Function `plot_confusion_matrix` is deprecated in 1.0 and will be removed in 1.2. Use one of the class methods: ConfusionMatrixDisplay.from_predictions or ConfusionMatrixDisplay.from_estimator.\n",
      "  warnings.warn(msg, category=FutureWarning)\n"
     ]
    },
    {
     "data": {
      "text/plain": [
       "<sklearn.metrics._plot.confusion_matrix.ConfusionMatrixDisplay at 0x7f21c05d5c90>"
      ]
     },
     "execution_count": 47,
     "metadata": {},
     "output_type": "execute_result"
    },
    {
     "data": {
      "image/png": "[encoded data removed]",
      "text/plain": [
       "<Figure size 432x288 with 2 Axes>"
      ]
     },
     "metadata": {
      "needs_background": "light"
     },
     "output_type": "display_data"
    }
   ],
   "source": [
    "plot_confusion_matrix(GB_model,X_train,y_train)"
   ]
  },
  {
   "cell_type": "code",
   "execution_count": 48,
   "id": "052ab38d",
   "metadata": {
    "execution": {
     "iopub.execute_input": "2022-07-28T10:34:39.618545Z",
     "iopub.status.busy": "2022-07-28T10:34:39.618125Z",
     "iopub.status.idle": "2022-07-28T10:34:39.829223Z",
     "shell.execute_reply": "2022-07-28T10:34:39.828093Z"
    },
    "papermill": {
     "duration": 0.239766,
     "end_time": "2022-07-28T10:34:39.832125",
     "exception": false,
     "start_time": "2022-07-28T10:34:39.592359",
     "status": "completed"
    },
    "tags": []
   },
   "outputs": [
    {
     "name": "stderr",
     "output_type": "stream",
     "text": [
      "/opt/conda/lib/python3.7/site-packages/sklearn/utils/deprecation.py:87: FutureWarning: Function plot_confusion_matrix is deprecated; Function `plot_confusion_matrix` is deprecated in 1.0 and will be removed in 1.2. Use one of the class methods: ConfusionMatrixDisplay.from_predictions or ConfusionMatrixDisplay.from_estimator.\n",
      "  warnings.warn(msg, category=FutureWarning)\n"
     ]
    },
    {
     "data": {
      "text/plain": [
       "<sklearn.metrics._plot.confusion_matrix.ConfusionMatrixDisplay at 0x7f21c02e26d0>"
      ]
     },
     "execution_count": 48,
     "metadata": {},
     "output_type": "execute_result"
    },
    {
     "data": {
      "image/png": "[encoded data removed]",
      "text/plain": [
       "<Figure size 432x288 with 2 Axes>"
      ]
     },
     "metadata": {
      "needs_background": "light"
     },
     "output_type": "display_data"
    }
   ],
   "source": [
    "plot_confusion_matrix(GB_model,X_test,y_test)"
   ]
  },
  {
   "cell_type": "code",
   "execution_count": 49,
   "id": "ffb71e8a",
   "metadata": {
    "execution": {
     "iopub.execute_input": "2022-07-28T10:34:39.886408Z",
     "iopub.status.busy": "2022-07-28T10:34:39.885999Z",
     "iopub.status.idle": "2022-07-28T10:34:39.894117Z",
     "shell.execute_reply": "2022-07-28T10:34:39.892262Z"
    },
    "papermill": {
     "duration": 0.038306,
     "end_time": "2022-07-28T10:34:39.896876",
     "exception": false,
     "start_time": "2022-07-28T10:34:39.858570",
     "status": "completed"
    },
    "tags": []
   },
   "outputs": [
    {
     "name": "stdout",
     "output_type": "stream",
     "text": [
      "Accuracy Score of GB model: 95.16129032258065\n"
     ]
    }
   ],
   "source": [
    "print(\"Accuracy Score of GB model:\",accuracy_score(y_test,GB_predict)*100)"
   ]
  },
  {
   "cell_type": "code",
   "execution_count": 50,
   "id": "67889368",
   "metadata": {
    "execution": {
     "iopub.execute_input": "2022-07-28T10:34:39.948549Z",
     "iopub.status.busy": "2022-07-28T10:34:39.948138Z",
     "iopub.status.idle": "2022-07-28T10:34:39.953174Z",
     "shell.execute_reply": "2022-07-28T10:34:39.952303Z"
    },
    "papermill": {
     "duration": 0.033554,
     "end_time": "2022-07-28T10:34:39.955449",
     "exception": false,
     "start_time": "2022-07-28T10:34:39.921895",
     "status": "completed"
    },
    "tags": []
   },
   "outputs": [],
   "source": [
    "XGB=XGBClassifier()"
   ]
  },
  {
   "cell_type": "code",
   "execution_count": 51,
   "id": "18c988e2",
   "metadata": {
    "execution": {
     "iopub.execute_input": "2022-07-28T10:34:40.008103Z",
     "iopub.status.busy": "2022-07-28T10:34:40.007034Z",
     "iopub.status.idle": "2022-07-28T10:34:40.287975Z",
     "shell.execute_reply": "2022-07-28T10:34:40.286965Z"
    },
    "papermill": {
     "duration": 0.31029,
     "end_time": "2022-07-28T10:34:40.290842",
     "exception": false,
     "start_time": "2022-07-28T10:34:39.980552",
     "status": "completed"
    },
    "tags": []
   },
   "outputs": [
    {
     "data": {
      "text/plain": [
       "XGBClassifier(base_score=0.5, booster='gbtree', callbacks=None,\n",
       "              colsample_bylevel=1, colsample_bynode=1, colsample_bytree=1,\n",
       "              early_stopping_rounds=None, enable_categorical=False,\n",
       "              eval_metric=None, gamma=0, gpu_id=-1, grow_policy='depthwise',\n",
       "              importance_type=None, interaction_constraints='',\n",
       "              learning_rate=0.300000012, max_bin=256, max_cat_to_onehot=4,\n",
       "              max_delta_step=0, max_depth=6, max_leaves=0, min_child_weight=1,\n",
       "              missing=nan, monotone_constraints='()', n_estimators=100,\n",
       "              n_jobs=0, num_parallel_tree=1, predictor='auto', random_state=0,\n",
       "              reg_alpha=0, reg_lambda=1, ...)"
      ]
     },
     "execution_count": 51,
     "metadata": {},
     "output_type": "execute_result"
    }
   ],
   "source": [
    "XGB.fit(X_train,y_train)"
   ]
  },
  {
   "cell_type": "code",
   "execution_count": 52,
   "id": "dafa7bed",
   "metadata": {
    "execution": {
     "iopub.execute_input": "2022-07-28T10:34:40.343333Z",
     "iopub.status.busy": "2022-07-28T10:34:40.342572Z",
     "iopub.status.idle": "2022-07-28T10:34:40.360200Z",
     "shell.execute_reply": "2022-07-28T10:34:40.358904Z"
    },
    "papermill": {
     "duration": 0.047284,
     "end_time": "2022-07-28T10:34:40.363274",
     "exception": false,
     "start_time": "2022-07-28T10:34:40.315990",
     "status": "completed"
    },
    "tags": []
   },
   "outputs": [],
   "source": [
    "XGB_predict=XGB.predict(X_test)"
   ]
  },
  {
   "cell_type": "code",
   "execution_count": 53,
   "id": "ed466832",
   "metadata": {
    "execution": {
     "iopub.execute_input": "2022-07-28T10:34:40.418935Z",
     "iopub.status.busy": "2022-07-28T10:34:40.417944Z",
     "iopub.status.idle": "2022-07-28T10:34:40.425816Z",
     "shell.execute_reply": "2022-07-28T10:34:40.424606Z"
    },
    "papermill": {
     "duration": 0.038721,
     "end_time": "2022-07-28T10:34:40.428870",
     "exception": false,
     "start_time": "2022-07-28T10:34:40.390149",
     "status": "completed"
    },
    "tags": []
   },
   "outputs": [
    {
     "name": "stdout",
     "output_type": "stream",
     "text": [
      "[[ 1  1]\n",
      " [ 0 60]]\n"
     ]
    }
   ],
   "source": [
    "print(confusion_matrix(y_test,XGB_predict))"
   ]
  },
  {
   "cell_type": "code",
   "execution_count": 54,
   "id": "af32955e",
   "metadata": {
    "execution": {
     "iopub.execute_input": "2022-07-28T10:34:40.483076Z",
     "iopub.status.busy": "2022-07-28T10:34:40.482707Z",
     "iopub.status.idle": "2022-07-28T10:34:40.494820Z",
     "shell.execute_reply": "2022-07-28T10:34:40.493668Z"
    },
    "papermill": {
     "duration": 0.041669,
     "end_time": "2022-07-28T10:34:40.497525",
     "exception": false,
     "start_time": "2022-07-28T10:34:40.455856",
     "status": "completed"
    },
    "tags": []
   },
   "outputs": [
    {
     "name": "stdout",
     "output_type": "stream",
     "text": [
      "              precision    recall  f1-score   support\n",
      "\n",
      "           0       1.00      0.50      0.67         2\n",
      "           1       0.98      1.00      0.99        60\n",
      "\n",
      "    accuracy                           0.98        62\n",
      "   macro avg       0.99      0.75      0.83        62\n",
      "weighted avg       0.98      0.98      0.98        62\n",
      "\n"
     ]
    }
   ],
   "source": [
    "print(classification_report(y_test,XGB_predict))"
   ]
  },
  {
   "cell_type": "code",
   "execution_count": 55,
   "id": "1d09380c",
   "metadata": {
    "execution": {
     "iopub.execute_input": "2022-07-28T10:34:40.551733Z",
     "iopub.status.busy": "2022-07-28T10:34:40.550081Z",
     "iopub.status.idle": "2022-07-28T10:34:40.733674Z",
     "shell.execute_reply": "2022-07-28T10:34:40.732509Z"
    },
    "papermill": {
     "duration": 0.212865,
     "end_time": "2022-07-28T10:34:40.736008",
     "exception": false,
     "start_time": "2022-07-28T10:34:40.523143",
     "status": "completed"
    },
    "tags": []
   },
   "outputs": [
    {
     "name": "stderr",
     "output_type": "stream",
     "text": [
      "/opt/conda/lib/python3.7/site-packages/sklearn/utils/deprecation.py:87: FutureWarning: Function plot_confusion_matrix is deprecated; Function `plot_confusion_matrix` is deprecated in 1.0 and will be removed in 1.2. Use one of the class methods: ConfusionMatrixDisplay.from_predictions or ConfusionMatrixDisplay.from_estimator.\n",
      "  warnings.warn(msg, category=FutureWarning)\n"
     ]
    },
    {
     "data": {
      "text/plain": [
       "<sklearn.metrics._plot.confusion_matrix.ConfusionMatrixDisplay at 0x7f21c051ee50>"
      ]
     },
     "execution_count": 55,
     "metadata": {},
     "output_type": "execute_result"
    },
    {
     "data": {
      "image/png": "[encoded data removed]",
      "text/plain": [
       "<Figure size 432x288 with 2 Axes>"
      ]
     },
     "metadata": {
      "needs_background": "light"
     },
     "output_type": "display_data"
    }
   ],
   "source": [
    "plot_confusion_matrix(XGB,X_test,y_test)"
   ]
  },
  {
   "cell_type": "code",
   "execution_count": 56,
   "id": "92ccd9ee",
   "metadata": {
    "execution": {
     "iopub.execute_input": "2022-07-28T10:34:40.790079Z",
     "iopub.status.busy": "2022-07-28T10:34:40.789694Z",
     "iopub.status.idle": "2022-07-28T10:34:41.025073Z",
     "shell.execute_reply": "2022-07-28T10:34:41.024221Z"
    },
    "papermill": {
     "duration": 0.264873,
     "end_time": "2022-07-28T10:34:41.027424",
     "exception": false,
     "start_time": "2022-07-28T10:34:40.762551",
     "status": "completed"
    },
    "tags": []
   },
   "outputs": [
    {
     "name": "stderr",
     "output_type": "stream",
     "text": [
      "/opt/conda/lib/python3.7/site-packages/sklearn/utils/deprecation.py:87: FutureWarning: Function plot_confusion_matrix is deprecated; Function `plot_confusion_matrix` is deprecated in 1.0 and will be removed in 1.2. Use one of the class methods: ConfusionMatrixDisplay.from_predictions or ConfusionMatrixDisplay.from_estimator.\n",
      "  warnings.warn(msg, category=FutureWarning)\n"
     ]
    },
    {
     "data": {
      "text/plain": [
       "<sklearn.metrics._plot.confusion_matrix.ConfusionMatrixDisplay at 0x7f21adf03d50>"
      ]
     },
     "execution_count": 56,
     "metadata": {},
     "output_type": "execute_result"
    },
    {
     "data": {
      "image/png": "[encoded data removed]",
      "text/plain": [
       "<Figure size 432x288 with 2 Axes>"
      ]
     },
     "metadata": {
      "needs_background": "light"
     },
     "output_type": "display_data"
    }
   ],
   "source": [
    "plot_confusion_matrix(XGB,X_train,y_train)"
   ]
  },
  {
   "cell_type": "code",
   "execution_count": 57,
   "id": "84321717",
   "metadata": {
    "execution": {
     "iopub.execute_input": "2022-07-28T10:34:41.106340Z",
     "iopub.status.busy": "2022-07-28T10:34:41.105163Z",
     "iopub.status.idle": "2022-07-28T10:34:41.113104Z",
     "shell.execute_reply": "2022-07-28T10:34:41.111522Z"
    },
    "papermill": {
     "duration": 0.061987,
     "end_time": "2022-07-28T10:34:41.115747",
     "exception": false,
     "start_time": "2022-07-28T10:34:41.053760",
     "status": "completed"
    },
    "tags": []
   },
   "outputs": [
    {
     "name": "stdout",
     "output_type": "stream",
     "text": [
      "Accuracy score of XGB is: 98.38709677419355\n"
     ]
    }
   ],
   "source": [
    "print(\"Accuracy score of XGB is:\",accuracy_score(y_test,XGB_predict)*100)"
   ]
  },
  {
   "cell_type": "markdown",
   "id": "2a0e1565",
   "metadata": {
    "papermill": {
     "duration": 0.025645,
     "end_time": "2022-07-28T10:34:41.168630",
     "exception": false,
     "start_time": "2022-07-28T10:34:41.142985",
     "status": "completed"
    },
    "tags": []
   },
   "source": [
    "**Here accuracy is Highest for XGB model. We can work more on Feature engineering part. Try to balance target variable and again run the model for better accuracy**"
   ]
  },
  {
   "cell_type": "code",
   "execution_count": null,
   "id": "c3f55db2",
   "metadata": {
    "papermill": {
     "duration": 0.026418,
     "end_time": "2022-07-28T10:34:41.220671",
     "exception": false,
     "start_time": "2022-07-28T10:34:41.194253",
     "status": "completed"
    },
    "tags": []
   },
   "outputs": [],
   "source": []
  }
 ],
 "metadata": {
  "kernelspec": {
   "display_name": "Python 3",
   "language": "python",
   "name": "python3"
  },
  "language_info": {
   "codemirror_mode": {
    "name": "ipython",
    "version": 3
   },
   "file_extension": ".py",
   "mimetype": "text/x-python",
   "name": "python",
   "nbconvert_exporter": "python",
   "pygments_lexer": "ipython3",
   "version": "3.7.12"
  },
  "papermill": {
   "default_parameters": {},
   "duration": 21.295422,
   "end_time": "2022-07-28T10:34:42.069330",
   "environment_variables": {},
   "exception": null,
   "input_path": "__notebook__.ipynb",
   "output_path": "__notebook__.ipynb",
   "parameters": {},
   "start_time": "2022-07-28T10:34:20.773908",
   "version": "2.3.4"
  }
 },
 "nbformat": 4,
 "nbformat_minor": 5
}
